{
  "nbformat": 4,
  "nbformat_minor": 0,
  "metadata": {
    "colab": {
      "provenance": [],
      "authorship_tag": "ABX9TyM0694QtF/Kr2QWqTBtYeMn",
      "include_colab_link": true
    },
    "kernelspec": {
      "name": "python3",
      "display_name": "Python 3"
    },
    "language_info": {
      "name": "python"
    }
  },
  "cells": [
    {
      "cell_type": "markdown",
      "metadata": {
        "id": "view-in-github",
        "colab_type": "text"
      },
      "source": [
        "<a href=\"https://colab.research.google.com/github/kdj0712/study_temps/blob/main/initial_djKim.ipynb\" target=\"_parent\"><img src=\"https://colab.research.google.com/assets/colab-badge.svg\" alt=\"Open In Colab\"/></a>"
      ]
    },
    {
      "cell_type": "code",
      "source": [
        "print(\"github\")"
      ],
      "metadata": {
        "colab": {
          "base_uri": "https://localhost:8080/"
        },
        "id": "7UyThAA4GgDR",
        "outputId": "32d6c90a-49db-4260-da50-c62b590e7039"
      },
      "execution_count": 1,
      "outputs": [
        {
          "output_type": "stream",
          "name": "stdout",
          "text": [
            "github\n"
          ]
        }
      ]
    },
    {
      "cell_type": "code",
      "source": [
        "# 여긴 화면 출력 명령어\n",
        "print(\"안녕하세요. 첫 개발 시작입니다.\") # 안녕. 출력"
      ],
      "metadata": {
        "colab": {
          "base_uri": "https://localhost:8080/"
        },
        "id": "gQo1FLH5sWhl",
        "outputId": "138c5888-385b-4c4d-a95c-69ae4aca9aec"
      },
      "execution_count": null,
      "outputs": [
        {
          "output_type": "stream",
          "name": "stdout",
          "text": [
            "안녕하세요. 첫 개발 시작입니다.\n"
          ]
        }
      ]
    },
    {
      "cell_type": "code",
      "source": [
        "# Quest 1\n",
        "print(\"김덕재는 데이터 엔지니어 양성 과정을 듣습니다.\")"
      ],
      "metadata": {
        "colab": {
          "base_uri": "https://localhost:8080/"
        },
        "id": "R0bEUlkZsYm0",
        "outputId": "6bb05786-8581-451a-b4ca-d5a054964a7e"
      },
      "execution_count": null,
      "outputs": [
        {
          "output_type": "stream",
          "name": "stdout",
          "text": [
            "김덕재는 데이터 엔지니어 양성 과정을 듣습니다.\n"
          ]
        }
      ]
    },
    {
      "cell_type": "code",
      "source": [
        "# 숫자화된 문자 출력 with 상수\n",
        "print(\"4 + 5\")"
      ],
      "metadata": {
        "colab": {
          "base_uri": "https://localhost:8080/"
        },
        "id": "JcBMUeRctj_l",
        "outputId": "445f7d19-b65f-4f66-8c61-c3c7481ddea3"
      },
      "execution_count": null,
      "outputs": [
        {
          "output_type": "stream",
          "name": "stdout",
          "text": [
            "4 + 5\n"
          ]
        }
      ]
    },
    {
      "cell_type": "code",
      "source": [
        "# 숫자 with 상수\n",
        "print(4 + 5)"
      ],
      "metadata": {
        "colab": {
          "base_uri": "https://localhost:8080/"
        },
        "id": "xkT1aJW9t5wH",
        "outputId": "3196749c-3969-4196-ddb5-305c2859b663"
      },
      "execution_count": null,
      "outputs": [
        {
          "output_type": "stream",
          "name": "stdout",
          "text": [
            "9\n"
          ]
        }
      ]
    },
    {
      "cell_type": "code",
      "source": [
        "# 숫자화된 문자 출력 with 변수\n",
        "numberwithval = \"4 + 5\"\n",
        "print(numberwithval)"
      ],
      "metadata": {
        "colab": {
          "base_uri": "https://localhost:8080/"
        },
        "id": "nBd2vFP7xlgM",
        "outputId": "c90599e3-94b0-45aa-88f7-cf67af74747a"
      },
      "execution_count": null,
      "outputs": [
        {
          "output_type": "stream",
          "name": "stdout",
          "text": [
            "4 + 5\n"
          ]
        }
      ]
    },
    {
      "cell_type": "code",
      "source": [
        "# Quest 2\n",
        "numberwithval = \"40 + 50\"\n",
        "print(numberwithval)"
      ],
      "metadata": {
        "colab": {
          "base_uri": "https://localhost:8080/"
        },
        "id": "Zw7WUtYe01ER",
        "outputId": "2e0486a2-9394-4e93-d487-9e625b327ed2"
      },
      "execution_count": null,
      "outputs": [
        {
          "output_type": "stream",
          "name": "stdout",
          "text": [
            "40 + 50\n"
          ]
        }
      ]
    },
    {
      "cell_type": "code",
      "source": [
        "# 숫자화된 변수 출력 with 변수\n",
        "numbers = numberwithval + \" = 90\" # 40 + 50 = 90\n",
        "print(numbers)"
      ],
      "metadata": {
        "colab": {
          "base_uri": "https://localhost:8080/"
        },
        "id": "-m5XJUgc11Xh",
        "outputId": "10966e27-62ff-41f1-dc78-8e4dd0b10113"
      },
      "execution_count": null,
      "outputs": [
        {
          "output_type": "stream",
          "name": "stdout",
          "text": [
            "40 + 50 = 90\n"
          ]
        }
      ]
    },
    {
      "cell_type": "code",
      "source": [
        "define_number = 10\n",
        "numberwithval = numberwithval + str(define_number)\n",
        "print(numberwithval)"
      ],
      "metadata": {
        "colab": {
          "base_uri": "https://localhost:8080/"
        },
        "id": "Gthb1MVt4KWp",
        "outputId": "596ec63a-c310-4ba7-a060-a73e7b59ff4b"
      },
      "execution_count": null,
      "outputs": [
        {
          "output_type": "stream",
          "name": "stdout",
          "text": [
            "40 + 5010\n"
          ]
        }
      ]
    },
    {
      "cell_type": "code",
      "source": [
        "# 데이터 타입이 숫자 with 변수\n",
        "result = 4 + 5\n",
        "print(result)"
      ],
      "metadata": {
        "colab": {
          "base_uri": "https://localhost:8080/"
        },
        "id": "89FFSesW-Vnp",
        "outputId": "695ffece-b68e-4cf4-e358-16579356ac7e"
      },
      "execution_count": null,
      "outputs": [
        {
          "output_type": "stream",
          "name": "stdout",
          "text": [
            "9\n"
          ]
        }
      ]
    },
    {
      "cell_type": "code",
      "source": [
        "# 두 수를 입력받아 변수에 넣고 결과 출력\n",
        "input = 4\n",
        "inputtwo = 5\n",
        "result = input + inputtwo\n",
        "print(result)"
      ],
      "metadata": {
        "colab": {
          "base_uri": "https://localhost:8080/"
        },
        "id": "frd1sMNJCU1a",
        "outputId": "1c3bb5cd-7d2f-4b84-aa74-aa61a94b9e5b"
      },
      "execution_count": null,
      "outputs": [
        {
          "output_type": "stream",
          "name": "stdout",
          "text": [
            "9\n"
          ]
        }
      ]
    },
    {
      "cell_type": "code",
      "source": [
        "# 위에 내용 반복\n",
        "input = 8\n",
        "inputtwo = 9\n",
        "result = input + inputtwo\n",
        "print(result)"
      ],
      "metadata": {
        "colab": {
          "base_uri": "https://localhost:8080/"
        },
        "id": "dS-TdjzDEP-J",
        "outputId": "3602e00e-5ccc-42b0-eba7-013d1382df02"
      },
      "execution_count": null,
      "outputs": [
        {
          "output_type": "stream",
          "name": "stdout",
          "text": [
            "17\n"
          ]
        }
      ]
    },
    {
      "cell_type": "code",
      "source": [
        "# 여긴 화면 출력 명령어\n",
        "print(\"안녕하세요. 첫 개발 시작입니다.\") # 안녕. 출력\n",
        "\n",
        "# Quest 1\n",
        "print(\"김덕재는 데이터 엔지니어 양성 과정을 듣습니다.\")\n",
        "# 숫자화된 문자 출력 with 상수\n",
        "print(\"4+5\")\n",
        "# 숫자 with 상수\n",
        "print(4 + 5)\n",
        "# 숫자화된 문자 출력 with 변수\n",
        "numberwithval = \"4 + 5\"\n",
        "print(numberwithval)\n",
        "# Quest 2\n",
        "numberwithval = \"40 + 50\"\n",
        "print(numberwithval)\n",
        "# 숫자화된 변수 출력 with 변수\n",
        "numbers = numberwithval + \" = 90\" # 40 + 50 = 90\n",
        "print(numbers)\n",
        "define_number = 10\n",
        "numberwithval = numberwithval + str(define_number)\n",
        "print(numberwithval)\n",
        "# 데이터 타입이 숫자 with 변수\n",
        "result = 4 +5\n",
        "print(result)\n",
        "# 두 수를 입력받아 변수에 넣고 결과 출력\n",
        "input = 4\n",
        "inputtwo = 5\n",
        "result = input + inputtwo\n",
        "print(result)\n",
        "# 위에 내용 반복\n",
        "input = 8\n",
        "inputtwo = 9\n",
        "result = input + inputtwo\n",
        "print(result)"
      ],
      "metadata": {
        "colab": {
          "base_uri": "https://localhost:8080/"
        },
        "id": "UUilQ6wUb9qY",
        "outputId": "ada35631-aee6-42cb-aee6-5c9a0c90a042"
      },
      "execution_count": null,
      "outputs": [
        {
          "output_type": "stream",
          "name": "stdout",
          "text": [
            "안녕하세요. 첫 개발 시작입니다.\n",
            "김덕재는 데이터 엔지니어 양성 과정을 듣습니다.\n",
            "4+5\n",
            "9\n",
            "4 + 5\n",
            "40 + 50\n",
            "40 + 50 = 90\n",
            "40 + 5010\n",
            "9\n",
            "9\n",
            "17\n"
          ]
        }
      ]
    },
    {
      "cell_type": "code",
      "source": [
        "# 여긴 화면 출력 명력ㅇ어\n",
        "print(\"안녕하세요. 첫 개발 시작입니다.\") # 안녕. 출력\n",
        "\n",
        "# Quest 1\n",
        "print(\"김덕재는 데이터 엔지니어 양성 과정을 듣습니다.\")\n",
        "\n",
        "# 숫자화된 문자 출력 with 상수\n",
        "print(\"4 + 5\")\n",
        "\n",
        "# 숫자 with 상수\n",
        "print(4 + 5)\n",
        "\n",
        "# 숫자화된 문자 출력 with 변수\n",
        "numberwithval = \"4 + 5\"\n",
        "print(numberwithval)\n",
        "\n",
        "# Quest 2\n",
        "numberwithval = \"40 + 50\"\n",
        "print(numberwithval)\n",
        "\n",
        "# 숫자화된 변수 출력 with 변수\n",
        "numbers = numberwithval + \" = 90\" # 40 + 50 = 90\n",
        "\n",
        "define_number = 10\n",
        "numberwithval = numberwithval + str(define_number)\n",
        "print(numberwithval)\n",
        "\n",
        "# 데이터 타입이 숫자 with 변수\n",
        "result = 4 + 5\n",
        "print(result)\n",
        "\n",
        "# 두 수를 입력받아 변수에 넣고 결과 출력\n",
        "input = 4\n",
        "inputtwo = 5\n",
        "result = input + inputtwo\n",
        "print(result)\n",
        "\n",
        "# 위에 내용 반복\n",
        "input = 8\n",
        "inputtwo = 9\n",
        "result = input + inputtwo\n",
        "print(result)\n",
        "\n",
        "# 첫 문장 참조와, 누락된 구문이 발견되어 재 진행 시도"
      ],
      "metadata": {
        "id": "EVJjqBU8d--2",
        "outputId": "8bfe5992-de5a-414a-82dc-2b3dbb8956c0",
        "colab": {
          "base_uri": "https://localhost:8080/"
        }
      },
      "execution_count": null,
      "outputs": [
        {
          "output_type": "stream",
          "name": "stdout",
          "text": [
            "안녕하세요. 첫 개발 시작입니다.\n",
            "김덕재는 데이터 엔지니어 양성 과정을 듣습니다.\n",
            "4 + 5\n",
            "9\n",
            "4 + 5\n",
            "40 + 50\n",
            "40 + 5010\n",
            "9\n",
            "9\n",
            "17\n"
          ]
        }
      ]
    },
    {
      "cell_type": "code",
      "source": [
        "# 여긴 화면 출력 명령어\n",
        "print(\"안녕하세요. 첫 개발 시작입니다.\") # 안녕. 출력\n",
        "\n",
        "# Quest 1\n",
        "print(\"김덕재는 데이터 엔지니어 양성 과정을 듣습니다.\")\n",
        "\n",
        "# 숫자화된 문자 출력 with 상수\n",
        "print(\"4 + 5\")\n",
        "\n",
        "# 숫자 with 상수\n",
        "print(4 + 5)\n",
        "\n",
        "# 숫자화된 문자 출력 with 변수\n",
        "numberwithval = \"4 + 5\"\n",
        "print(numberwithval)\n",
        "\n",
        "# Quest 2\n",
        "numberwithval = \"40 + 50\"\n",
        "print(numberwithval)\n",
        "\n",
        "# 숫자화된 변수 출력 with 변수\n",
        "numbers = numberwithval + \" = 90\" # 40 + 50 = 90\n",
        "print(numbers)\n",
        "\n",
        "define_number = 10\n",
        "numberwithval = numberwithval + str(define_number)\n",
        "print(numberwithval)\n",
        "\n",
        "# 데이터 타입이 숫자 with 변수\n",
        "result = 4 + 5\n",
        "print(result)\n",
        "\n",
        "# 두 수를 입력받아 변수에 넣고  결과 출력\n",
        "input = 4\n",
        "inputtwo = 5\n",
        "result = input + inputtwo\n",
        "print(result)\n",
        "\n",
        "# 위에 내용 반복\n",
        "input = 8\n",
        "inputtwo = 9\n",
        "result = input + inputtwo\n",
        "print(result)\n"
      ],
      "metadata": {
        "colab": {
          "base_uri": "https://localhost:8080/"
        },
        "id": "qDhf6qLW0PMo",
        "outputId": "4111b5b6-a69e-482d-d367-ad068fe4b901"
      },
      "execution_count": null,
      "outputs": [
        {
          "output_type": "stream",
          "name": "stdout",
          "text": [
            "안녕하세요. 첫 개발 시작입니다.\n",
            "김덕재는 데이터 엔지니어 양성 과정을 듣습니다.\n",
            "4 + 5\n",
            "9\n",
            "4 + 5\n",
            "40 + 50\n",
            "40 + 50 = 90\n",
            "40 + 5010\n",
            "9\n",
            "9\n",
            "17\n"
          ]
        }
      ]
    }
  ]
}